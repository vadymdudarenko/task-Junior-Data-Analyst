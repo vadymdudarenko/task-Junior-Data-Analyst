{
 "cells": [
  {
   "cell_type": "code",
   "execution_count": 39,
   "id": "392101cd",
   "metadata": {},
   "outputs": [
    {
     "name": "stdout",
     "output_type": "stream",
     "text": [
      "Exchange rate data saved to the Google Sheet.\n"
     ]
    }
   ],
   "source": [
    "import requests\n",
    "import pandas as pd\n",
    "import gspread\n",
    "from oauth2client.service_account import ServiceAccountCredentials\n",
    "\n",
    "# Define the API URL\n",
    "api_url = \"https://api.monobank.ua/bank/currency\"\n",
    "google_sheets_keyfile = \"C:\\\\Users\\\\Vadym\\\\Downloads\\\\mythic-display-331614-748fd073f08b.json\"\n",
    "\n",
    "# Authenticate with Google Sheets API\n",
    "scope = ['https://spreadsheets.google.com/feeds', 'https://www.googleapis.com/auth/drive']\n",
    "credentials = ServiceAccountCredentials.from_json_keyfile_name(google_sheets_keyfile, scope)\n",
    "gc = gspread.authorize(credentials)\n",
    "\n",
    "# Open the Google Sheet by title or URL\n",
    "# Replace 'Your Spreadsheet' with the title or URL of your Google Sheet\n",
    "sheet = gc.open('task1').sheet1\n",
    "\n",
    "try:\n",
    "    # Send an HTTP GET request to the API\n",
    "    response = requests.get(api_url)\n",
    "\n",
    "    # Check if the request was successful\n",
    "    if response.status_code == 200:\n",
    "        # Parse the JSON response\n",
    "        data = response.json()\n",
    "\n",
    "        # Create an empty DataFrame to store the exchange rate data\n",
    "        exchange_rates_df = pd.DataFrame(columns=['CurrencyPair', 'RateBuy', 'RateSell'])\n",
    "\n",
    "        # Iterate through the data and extract exchange rate information\n",
    "        for currency in data:\n",
    "            currency_pair = f\"{currency['currencyCodeA']} to {currency['currencyCodeB']}\"\n",
    "            rate_buy = currency['rateBuy']\n",
    "            rate_sell = currency['rateSell']\n",
    "            exchange_rates_df = exchange_rates_df.append({\n",
    "                'CurrencyPair': currency_pair,\n",
    "                'RateBuy': rate_buy,\n",
    "                'RateSell': rate_sell\n",
    "            }, ignore_index=True)\n",
    "\n",
    "        # Clear the existing data in the Google Sheet\n",
    "        sheet.clear()\n",
    "\n",
    "        # Update the Google Sheet with the exchange rate data\n",
    "        sheet.update([exchange_rates_df.columns.values.tolist()] + exchange_rates_df.values.tolist())\n",
    "\n",
    "        print(\"Exchange rate data saved to the Google Sheet.\")\n",
    "\n",
    "    else:\n",
    "        print(f\"Request to {api_url} failed with status code {response.status_code}\")\n",
    "\n",
    "except requests.RequestException as e:\n",
    "    print(f\"An error occurred while making the request: {str(e)}\")\n",
    "\n"
   ]
  },
  {
   "cell_type": "code",
   "execution_count": null,
   "id": "e226f881",
   "metadata": {},
   "outputs": [],
   "source": []
  }
 ],
 "metadata": {
  "kernelspec": {
   "display_name": "Python 3",
   "language": "python",
   "name": "python3"
  },
  "language_info": {
   "codemirror_mode": {
    "name": "ipython",
    "version": 3
   },
   "file_extension": ".py",
   "mimetype": "text/x-python",
   "name": "python",
   "nbconvert_exporter": "python",
   "pygments_lexer": "ipython3",
   "version": "3.8.8"
  }
 },
 "nbformat": 4,
 "nbformat_minor": 5
}
